{
 "cells": [
  {
   "cell_type": "code",
   "execution_count": 1,
   "metadata": {
    "ExecuteTime": {
     "end_time": "2021-01-31T15:23:46.680277Z",
     "start_time": "2021-01-31T15:23:46.678721Z"
    }
   },
   "outputs": [],
   "source": [
    "# Obective\n",
    "# Dataset\n",
    "# Approaches\n",
    "# TODO"
   ]
  },
  {
   "cell_type": "markdown",
   "metadata": {},
   "source": [
    "# Obective\n",
    "The problem is for every given pair of sentences -- (sentence-1, sentence-2), we need to determine if sentence-2 can be logically inferred given sentence-1."
   ]
  },
  {
   "cell_type": "markdown",
   "metadata": {},
   "source": [
    "# Dataset\n",
    "\n",
    "The dataset is a collection of human-written English sentence pairs manually labeled for balanced classification with the labels entailment, contradiction, and neutral. There are 9350 training and 494 testing sentence pairs.\n",
    "\n",
    "![](./images/data_sample.png)"
   ]
  },
  {
   "cell_type": "markdown",
   "metadata": {},
   "source": [
    "# Approaches\n",
    "    1. Multi class classification using a vanila RNN model\n",
    "    2. Fine Tuning a BERT pre trained model for classification \n",
    "    \n",
    "- This problem could be posed as a multi class classification problem. \n",
    "- Given 2 sentences as input we need to find a softmax output of number of classes(in out case 2 classes)\n",
    "- Sentence entailment is a difficult problem to solve because network needs to look at big sentences and understand their underlying relationship.\n",
    "- Before starting with heavier models like BERT, I decided to checkout the RNN performance in this problem first.\n",
    "- Later I moved onto BERT models and fine tuned one pre trained models. BERT performance was obviously better than vanila RNN model "
   ]
  },
  {
   "cell_type": "markdown",
   "metadata": {},
   "source": [
    "# 1. Multi class classification using a vanila RNN model\n",
    "### Details:\n",
    "- I have used a GRU architecture for the training\n",
    "- Tested with bidirectional GRU with than one layer. Used pre trained glove embeddings for words \n",
    "- Check out the notebook link below, it has both training and testing code\n",
    "- Notebook link -> ##todo\n",
    "\n",
    "### Results:\n",
    "- The model starts to overfit quite early even with dropout.\n",
    "- val accuracy was quite low, around 50%"
   ]
  },
  {
   "cell_type": "markdown",
   "metadata": {
    "ExecuteTime": {
     "end_time": "2021-01-31T15:49:56.426452Z",
     "start_time": "2021-01-31T15:49:56.420289Z"
    }
   },
   "source": [
    "# 2. Fine Tuning a BERT pre trained model for classification \n",
    "### Details:\n",
    "- Used the python transformer library to finetune a pretrained bert classification model\n",
    "- First tokenize the words using BertTokenizer(bert-base-uncased)(it has 30k words with emb dim of 768)\n",
    "- Load a BertForSequenceClassification model. This model has one linear layer at top(bottleneck layer)\n",
    "- Idealy we should first freeze the base layers and only train the classificaiton layer for one epoch\n",
    "- After we can unfreeze all the layer and train the entire mode\n",
    "- However in my experiment I didn't see much difference with the approached described above\n",
    "- So, I ended up only training the classificaiton layer(all the bert base layers were frozen)\n",
    "- Check out the notebook link below, it has both training and testing code\n",
    "- Notebook link -> ##todo\n",
    "\n",
    "### Results:\n",
    "- The val accuracy this time was around 80% after 5 epoch\n",
    "- "
   ]
  },
  {
   "cell_type": "code",
   "execution_count": null,
   "metadata": {},
   "outputs": [],
   "source": []
  }
 ],
 "metadata": {
  "kernelspec": {
   "display_name": "pytorch",
   "language": "python",
   "name": "pytorch"
  },
  "language_info": {
   "codemirror_mode": {
    "name": "ipython",
    "version": 3
   },
   "file_extension": ".py",
   "mimetype": "text/x-python",
   "name": "python",
   "nbconvert_exporter": "python",
   "pygments_lexer": "ipython3",
   "version": "3.8.5"
  }
 },
 "nbformat": 4,
 "nbformat_minor": 4
}
