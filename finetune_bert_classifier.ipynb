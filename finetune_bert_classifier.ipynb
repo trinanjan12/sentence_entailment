{
 "cells": [
  {
   "cell_type": "markdown",
   "metadata": {},
   "source": [
    "# Fine-Tuning Bert with Pytorch\n",
    "## This notebook has the follwing topics \n",
    "    1. Dataset Preprocessing\n",
    "        1a. Load and disply data\n",
    "        1b. Add extra column label\n",
    "        1c. Load the BERT tokenizer\n",
    "        1d. Create sentense pair \n",
    "        1e. Tokenization using bert model\n",
    "        1f. Create dataloader\n",
    "    2. Training the model \n",
    "        2a. Load a pretrained bert model with a classificaiton layer\n",
    "        2b. Freeze base layer and only train the bottleneck layers\n",
    "        2c. Train settings\n",
    "        2d. Train loop\n",
    "        2e. Save models for later reference\n",
    "        2f. Display train stats\n",
    "    3. Inference\n",
    "        3a. 3a. Load inference data \n",
    "        3b. Test example1\n",
    "        3c. Test example2\n",
    "        3d. Test example3"
   ]
  },
  {
   "cell_type": "code",
   "execution_count": 1,
   "metadata": {
    "ExecuteTime": {
     "end_time": "2021-01-31T15:09:11.317615Z",
     "start_time": "2021-01-31T15:09:10.567989Z"
    }
   },
   "outputs": [],
   "source": [
    "import transformers\n",
    "import torch\n",
    "import pandas as pd\n",
    "import numpy as np\n",
    "from sklearn.model_selection import train_test_split\n",
    "from tqdm import tqdm as tqdm\n",
    "import time\n",
    "import datetime\n",
    "import random\n",
    "import os"
   ]
  },
  {
   "cell_type": "code",
   "execution_count": 2,
   "metadata": {
    "ExecuteTime": {
     "end_time": "2021-01-31T15:09:11.330991Z",
     "start_time": "2021-01-31T15:09:11.318652Z"
    }
   },
   "outputs": [],
   "source": [
    "## GLOBAL SETTINGS\n",
    "visualize_index = 10 # Index to be used to test/visualize items\n",
    "max_len = 128 # Max length of input sentence\n",
    "device = torch.device(\"cuda\" if torch.cuda.is_available() else \"cpu\")\n",
    "test_train_split = .9 # 90% of the data will be used for training and rest will be used for validation\n",
    "epochs = 5\n",
    "num_output = 3 \n",
    "label_dict = {0 : 'contradiction', 1 : 'entailment', 2 : 'neutral'} # output label and there index\n",
    "batch_size = 64"
   ]
  },
  {
   "cell_type": "markdown",
   "metadata": {},
   "source": [
    "# 1. Dataset Preprocessing"
   ]
  },
  {
   "cell_type": "markdown",
   "metadata": {},
   "source": [
    "## 1a. Load and disply data"
   ]
  },
  {
   "cell_type": "code",
   "execution_count": 3,
   "metadata": {
    "ExecuteTime": {
     "end_time": "2021-01-31T15:09:11.354303Z",
     "start_time": "2021-01-31T15:09:11.332178Z"
    }
   },
   "outputs": [
    {
     "name": "stdout",
     "output_type": "stream",
     "text": [
      "Number of training sentence pairs : 9349\n"
     ]
    },
    {
     "data": {
      "text/html": [
       "<div>\n",
       "<style scoped>\n",
       "    .dataframe tbody tr th:only-of-type {\n",
       "        vertical-align: middle;\n",
       "    }\n",
       "\n",
       "    .dataframe tbody tr th {\n",
       "        vertical-align: top;\n",
       "    }\n",
       "\n",
       "    .dataframe thead th {\n",
       "        text-align: right;\n",
       "    }\n",
       "</style>\n",
       "<table border=\"1\" class=\"dataframe\">\n",
       "  <thead>\n",
       "    <tr style=\"text-align: right;\">\n",
       "      <th></th>\n",
       "      <th>gold_label</th>\n",
       "      <th>sentence1</th>\n",
       "      <th>sentence2</th>\n",
       "    </tr>\n",
       "  </thead>\n",
       "  <tbody>\n",
       "    <tr>\n",
       "      <th>1140</th>\n",
       "      <td>neutral</td>\n",
       "      <td>Two men are playing basketball, and one man is...</td>\n",
       "      <td>The men are on different teams.</td>\n",
       "    </tr>\n",
       "    <tr>\n",
       "      <th>5328</th>\n",
       "      <td>neutral</td>\n",
       "      <td>A white dog, a brown dog, and a black dog frol...</td>\n",
       "      <td>Several dogs are chasing frisbees in a grassy ...</td>\n",
       "    </tr>\n",
       "    <tr>\n",
       "      <th>8865</th>\n",
       "      <td>contradiction</td>\n",
       "      <td>The two people are on the end of the dock with...</td>\n",
       "      <td>Two people jumping off a dock into the water.</td>\n",
       "    </tr>\n",
       "    <tr>\n",
       "      <th>2807</th>\n",
       "      <td>entailment</td>\n",
       "      <td>A man in a straw hat and another man in a stri...</td>\n",
       "      <td>The men have beverages.</td>\n",
       "    </tr>\n",
       "    <tr>\n",
       "      <th>4228</th>\n",
       "      <td>contradiction</td>\n",
       "      <td>A bridal party is posing for a picture outdoors.</td>\n",
       "      <td>The best man is taking pictures from the bache...</td>\n",
       "    </tr>\n",
       "    <tr>\n",
       "      <th>9114</th>\n",
       "      <td>neutral</td>\n",
       "      <td>Two backpackers look at scenic mountains.</td>\n",
       "      <td>Two guys are rock climbers.</td>\n",
       "    </tr>\n",
       "    <tr>\n",
       "      <th>2041</th>\n",
       "      <td>contradiction</td>\n",
       "      <td>Groups of people are sitting on a curb and the...</td>\n",
       "      <td>groups of people are standing around</td>\n",
       "    </tr>\n",
       "    <tr>\n",
       "      <th>7015</th>\n",
       "      <td>neutral</td>\n",
       "      <td>One man watching another man operate heavy mac...</td>\n",
       "      <td>Two workers are outside doing construction work.</td>\n",
       "    </tr>\n",
       "    <tr>\n",
       "      <th>7508</th>\n",
       "      <td>neutral</td>\n",
       "      <td>two people are waiting for a train at a station.</td>\n",
       "      <td>They will both get onto the same train together.</td>\n",
       "    </tr>\n",
       "    <tr>\n",
       "      <th>8134</th>\n",
       "      <td>contradiction</td>\n",
       "      <td>A young man in a black shirt and an elderly wo...</td>\n",
       "      <td>The man is asleep in the bathtub on the moon.</td>\n",
       "    </tr>\n",
       "  </tbody>\n",
       "</table>\n",
       "</div>"
      ],
      "text/plain": [
       "         gold_label                                          sentence1  \\\n",
       "1140        neutral  Two men are playing basketball, and one man is...   \n",
       "5328        neutral  A white dog, a brown dog, and a black dog frol...   \n",
       "8865  contradiction  The two people are on the end of the dock with...   \n",
       "2807     entailment  A man in a straw hat and another man in a stri...   \n",
       "4228  contradiction   A bridal party is posing for a picture outdoors.   \n",
       "9114        neutral          Two backpackers look at scenic mountains.   \n",
       "2041  contradiction  Groups of people are sitting on a curb and the...   \n",
       "7015        neutral  One man watching another man operate heavy mac...   \n",
       "7508        neutral   two people are waiting for a train at a station.   \n",
       "8134  contradiction  A young man in a black shirt and an elderly wo...   \n",
       "\n",
       "                                              sentence2  \n",
       "1140                    The men are on different teams.  \n",
       "5328  Several dogs are chasing frisbees in a grassy ...  \n",
       "8865      Two people jumping off a dock into the water.  \n",
       "2807                            The men have beverages.  \n",
       "4228  The best man is taking pictures from the bache...  \n",
       "9114                        Two guys are rock climbers.  \n",
       "2041               groups of people are standing around  \n",
       "7015   Two workers are outside doing construction work.  \n",
       "7508   They will both get onto the same train together.  \n",
       "8134      The man is asleep in the bathtub on the moon.  "
      ]
     },
     "execution_count": 3,
     "metadata": {},
     "output_type": "execute_result"
    }
   ],
   "source": [
    "train_df = pd.read_csv(\"../dataset/assignment_data_set/train.csv\")\n",
    "print(f\"Number of training sentence pairs : {train_df.shape[0]}\")\n",
    "\n",
    "# Display 10 random rows from the data.\n",
    "train_df.sample(visualize_index)"
   ]
  },
  {
   "cell_type": "markdown",
   "metadata": {
    "ExecuteTime": {
     "end_time": "2021-01-31T10:19:31.272629Z",
     "start_time": "2021-01-31T10:19:31.269807Z"
    }
   },
   "source": [
    "## 1b. Add extra column label"
   ]
  },
  {
   "cell_type": "code",
   "execution_count": 4,
   "metadata": {
    "ExecuteTime": {
     "end_time": "2021-01-31T15:09:11.374388Z",
     "start_time": "2021-01-31T15:09:11.355354Z"
    }
   },
   "outputs": [
    {
     "data": {
      "text/html": [
       "<div>\n",
       "<style scoped>\n",
       "    .dataframe tbody tr th:only-of-type {\n",
       "        vertical-align: middle;\n",
       "    }\n",
       "\n",
       "    .dataframe tbody tr th {\n",
       "        vertical-align: top;\n",
       "    }\n",
       "\n",
       "    .dataframe thead th {\n",
       "        text-align: right;\n",
       "    }\n",
       "</style>\n",
       "<table border=\"1\" class=\"dataframe\">\n",
       "  <thead>\n",
       "    <tr style=\"text-align: right;\">\n",
       "      <th></th>\n",
       "      <th>gold_label</th>\n",
       "      <th>sentence1</th>\n",
       "      <th>sentence2</th>\n",
       "      <th>label</th>\n",
       "    </tr>\n",
       "  </thead>\n",
       "  <tbody>\n",
       "    <tr>\n",
       "      <th>4784</th>\n",
       "      <td>entailment</td>\n",
       "      <td>Two men and a lady are standing outside.</td>\n",
       "      <td>There are people outside.</td>\n",
       "      <td>1</td>\n",
       "    </tr>\n",
       "    <tr>\n",
       "      <th>6633</th>\n",
       "      <td>contradiction</td>\n",
       "      <td>Two girls are walking down the street looking ...</td>\n",
       "      <td>Skipping at a place with no cats and walk into...</td>\n",
       "      <td>0</td>\n",
       "    </tr>\n",
       "    <tr>\n",
       "      <th>3492</th>\n",
       "      <td>neutral</td>\n",
       "      <td>A man wearing a red bicycle helmet talking on ...</td>\n",
       "      <td>A man talks on his iphone.</td>\n",
       "      <td>2</td>\n",
       "    </tr>\n",
       "    <tr>\n",
       "      <th>368</th>\n",
       "      <td>contradiction</td>\n",
       "      <td>A man in a blue jacket riding a bike</td>\n",
       "      <td>A man is walking his dog.</td>\n",
       "      <td>0</td>\n",
       "    </tr>\n",
       "    <tr>\n",
       "      <th>9212</th>\n",
       "      <td>entailment</td>\n",
       "      <td>A woman walking in front of a yellow building.</td>\n",
       "      <td>The woman is walking.</td>\n",
       "      <td>1</td>\n",
       "    </tr>\n",
       "    <tr>\n",
       "      <th>1408</th>\n",
       "      <td>neutral</td>\n",
       "      <td>A young girl wearing a blue, flowered, spaghet...</td>\n",
       "      <td>a silly girl plays near a water bucket</td>\n",
       "      <td>2</td>\n",
       "    </tr>\n",
       "    <tr>\n",
       "      <th>7595</th>\n",
       "      <td>neutral</td>\n",
       "      <td>A marching band of kids while at a rodeo.</td>\n",
       "      <td>The kids are playing a song.</td>\n",
       "      <td>2</td>\n",
       "    </tr>\n",
       "    <tr>\n",
       "      <th>7239</th>\n",
       "      <td>neutral</td>\n",
       "      <td>A woman in a gray shirt working on papers at h...</td>\n",
       "      <td>Lady working in her desk tensely to completed ...</td>\n",
       "      <td>2</td>\n",
       "    </tr>\n",
       "    <tr>\n",
       "      <th>2567</th>\n",
       "      <td>contradiction</td>\n",
       "      <td>A man in a gray sweatshirt and blue jeans is p...</td>\n",
       "      <td>the two men were pulling on the rope</td>\n",
       "      <td>0</td>\n",
       "    </tr>\n",
       "    <tr>\n",
       "      <th>8448</th>\n",
       "      <td>contradiction</td>\n",
       "      <td>Two dogs play with tennis ball in field.</td>\n",
       "      <td>Dogs are watching a tennis match.</td>\n",
       "      <td>0</td>\n",
       "    </tr>\n",
       "  </tbody>\n",
       "</table>\n",
       "</div>"
      ],
      "text/plain": [
       "         gold_label                                          sentence1  \\\n",
       "4784     entailment           Two men and a lady are standing outside.   \n",
       "6633  contradiction  Two girls are walking down the street looking ...   \n",
       "3492        neutral  A man wearing a red bicycle helmet talking on ...   \n",
       "368   contradiction               A man in a blue jacket riding a bike   \n",
       "9212     entailment     A woman walking in front of a yellow building.   \n",
       "1408        neutral  A young girl wearing a blue, flowered, spaghet...   \n",
       "7595        neutral          A marching band of kids while at a rodeo.   \n",
       "7239        neutral  A woman in a gray shirt working on papers at h...   \n",
       "2567  contradiction  A man in a gray sweatshirt and blue jeans is p...   \n",
       "8448  contradiction           Two dogs play with tennis ball in field.   \n",
       "\n",
       "                                              sentence2  label  \n",
       "4784                          There are people outside.      1  \n",
       "6633  Skipping at a place with no cats and walk into...      0  \n",
       "3492                         A man talks on his iphone.      2  \n",
       "368                           A man is walking his dog.      0  \n",
       "9212                              The woman is walking.      1  \n",
       "1408             a silly girl plays near a water bucket      2  \n",
       "7595                       The kids are playing a song.      2  \n",
       "7239  Lady working in her desk tensely to completed ...      2  \n",
       "2567               the two men were pulling on the rope      0  \n",
       "8448                  Dogs are watching a tennis match.      0  "
      ]
     },
     "execution_count": 4,
     "metadata": {},
     "output_type": "execute_result"
    }
   ],
   "source": [
    "# Add a column label which we will be using for train labels\n",
    "# {'contradiction': 0, 'entailment': 1, 'neutral': 2}\n",
    "train_df[\"label\"] = train_df[\"gold_label\"].apply(\n",
    "    lambda x: 0 if x == \"contradiction\" else 1 if x == \"entailment\" else 2\n",
    ")\n",
    "# Display 10 random rows from the data.\n",
    "train_df.sample(visualize_index)"
   ]
  },
  {
   "cell_type": "markdown",
   "metadata": {},
   "source": [
    "## 1c. Load the BERT tokenizer"
   ]
  },
  {
   "cell_type": "code",
   "execution_count": 5,
   "metadata": {
    "ExecuteTime": {
     "end_time": "2021-01-31T15:09:12.213473Z",
     "start_time": "2021-01-31T15:09:11.375671Z"
    }
   },
   "outputs": [
    {
     "name": "stdout",
     "output_type": "stream",
     "text": [
      "Loading BERT tokenizer from transformer library...\n"
     ]
    }
   ],
   "source": [
    "# Load the BERT tokenizer.\n",
    "print('Loading BERT tokenizer from transformer library...')\n",
    "tokenizer = transformers.BertTokenizer.from_pretrained('bert-base-uncased', do_lower_case=True)"
   ]
  },
  {
   "cell_type": "markdown",
   "metadata": {
    "ExecuteTime": {
     "end_time": "2021-01-31T10:23:08.692740Z",
     "start_time": "2021-01-31T10:23:08.688188Z"
    }
   },
   "source": [
    "## 1d. Create sentense pair"
   ]
  },
  {
   "cell_type": "code",
   "execution_count": 6,
   "metadata": {
    "ExecuteTime": {
     "end_time": "2021-01-31T15:09:12.719390Z",
     "start_time": "2021-01-31T15:09:12.215256Z"
    }
   },
   "outputs": [
    {
     "name": "stderr",
     "output_type": "stream",
     "text": [
      "9349it [00:00, 18693.68it/s]\n"
     ]
    }
   ],
   "source": [
    "# Helper function to create sentence pair from the data frame\n",
    "def create_sen_pair(dataframe):\n",
    "    \"\"\"Trains the model for a fixed number of epochs (iterations on a dataset).\n",
    "\n",
    "    Arguments:\n",
    "        dataframe: panda dataframe\n",
    "\n",
    "    Returns:\n",
    "        - sen_pairs list. example ['this is sentence1','this is sentence2']\n",
    "        - correspoding label field value\n",
    "    \"\"\"\n",
    "    sen_pairs = []\n",
    "    labels = []\n",
    "    for index, row in tqdm(dataframe.iterrows()):\n",
    "        each_sen_pair = [row[\"sentence1\"], row[\"sentence2\"]]\n",
    "        label = row[\"label\"]\n",
    "        sen_pairs.append(each_sen_pair)\n",
    "        labels.append(label)\n",
    "    return sen_pairs, labels\n",
    "\n",
    "# Train data and train labels\n",
    "sentence_pairs, labels = create_sen_pair(train_df)"
   ]
  },
  {
   "cell_type": "markdown",
   "metadata": {},
   "source": [
    "## 1e. Tokenization using bert model"
   ]
  },
  {
   "cell_type": "code",
   "execution_count": 7,
   "metadata": {
    "ExecuteTime": {
     "end_time": "2021-01-31T15:09:16.319472Z",
     "start_time": "2021-01-31T15:09:12.721083Z"
    }
   },
   "outputs": [
    {
     "name": "stderr",
     "output_type": "stream",
     "text": [
      "  0%|          | 0/9349 [00:00<?, ?it/s]Truncation was not explicitly activated but `max_length` is provided a specific value, please use `truncation=True` to explicitly truncate examples to max length. Defaulting to 'longest_first' truncation strategy. If you encode pairs of sequences (GLUE-style) with the tokenizer you can select this strategy more precisely by providing a specific strategy to `truncation`.\n",
      "/home/deep/.virtualenvs/pytorch/lib/python3.8/site-packages/transformers/tokenization_utils_base.py:2137: FutureWarning: The `pad_to_max_length` argument is deprecated and will be removed in a future version, use `padding=True` or `padding='longest'` to pad to the longest sequence in the batch, or use `padding='max_length'` to pad to a max length. In this case, you can give a specific length with `max_length` (e.g. `max_length=45`) or leave max_length to None to pad to the maximal input size of the model (e.g. 512 for Bert).\n",
      "  warnings.warn(\n",
      "100%|██████████| 9349/9349 [00:03<00:00, 2620.47it/s]\n"
     ]
    }
   ],
   "source": [
    "# Helper function for tokenization\n",
    "def get_tokernized_values(each_sen_pair):\n",
    "    encoded_dict = tokenizer.encode_plus(\n",
    "        text=each_sen_pair[0],  # Sentence to encode.\n",
    "        text_pair=each_sen_pair[1],  # for text pair ## TODO check this??\n",
    "        add_special_tokens=True,  # Add '[CLS]' and '[SEP]'\n",
    "        max_length=max_len,  # Pad & truncate all sentences.\n",
    "        pad_to_max_length=True,\n",
    "        return_attention_mask=True,  # Construct attn. masks.\n",
    "        return_tensors='pt',  # Return pytorch tensors.\n",
    "    )\n",
    "    return encoded_dict['input_ids'], encoded_dict['attention_mask']\n",
    "\n",
    "\n",
    "# List to strore tokenization outputs for all the sentences\n",
    "input_ids = []\n",
    "attention_masks = []\n",
    "\n",
    "for each_sen_pair in tqdm(sentence_pairs):\n",
    "    temp_input_ids, temp_attention_mask = get_tokernized_values(each_sen_pair)\n",
    "\n",
    "    input_ids.append(temp_input_ids)\n",
    "\n",
    "    attention_masks.append(temp_attention_mask)\n",
    "\n",
    "# Convert the lists into tensors.\n",
    "input_ids = torch.cat(input_ids, dim=0)\n",
    "attention_masks = torch.cat(attention_masks, dim=0)\n",
    "labels = torch.tensor(labels)"
   ]
  },
  {
   "cell_type": "code",
   "execution_count": 8,
   "metadata": {
    "ExecuteTime": {
     "end_time": "2021-01-31T15:09:16.323472Z",
     "start_time": "2021-01-31T15:09:16.320317Z"
    }
   },
   "outputs": [
    {
     "name": "stdout",
     "output_type": "stream",
     "text": [
      "Checking out one tokenized example\n",
      "---------------------------\n",
      "Original sentence pair is -->  ['Three women, two wearing red shirts and one wearing a purple shirt, and a man, wearing a light blue shirt, jump on a basketball court with balls in their hands.', \"Three people's are eating in hotel.\"]\n",
      "---------------------------\n",
      "Tokenized ids --> tensor([  101,  2093,  2308,  1010,  2048,  4147,  2417, 11344,  1998,  2028,\n",
      "         4147,  1037,  6379,  3797,  1010,  1998,  1037,  2158,  1010,  4147,\n",
      "         1037,  2422,  2630,  3797,  1010,  5376,  2006,  1037,  3455,  2457,\n",
      "         2007,  7395,  1999,  2037,  2398,  1012,   102,  2093,  2111,  1005,\n",
      "         1055,  2024,  5983,  1999,  3309,  1012,   102,     0,     0,     0,\n",
      "            0,     0,     0,     0,     0,     0,     0,     0,     0,     0,\n",
      "            0,     0,     0,     0,     0,     0,     0,     0,     0,     0,\n",
      "            0,     0,     0,     0,     0,     0,     0,     0,     0,     0,\n",
      "            0,     0,     0,     0,     0,     0,     0,     0,     0,     0,\n",
      "            0,     0,     0,     0,     0,     0,     0,     0,     0,     0,\n",
      "            0,     0,     0,     0,     0,     0,     0,     0,     0,     0,\n",
      "            0,     0,     0,     0,     0,     0,     0,     0,     0,     0,\n",
      "            0,     0,     0,     0,     0,     0,     0,     0])\n"
     ]
    }
   ],
   "source": [
    "print('Checking out one tokenized example')\n",
    "print('---------------------------')\n",
    "print('Original sentence pair is --> ', sentence_pairs[visualize_index])\n",
    "print('---------------------------')\n",
    "print('Tokenized ids -->', input_ids[visualize_index])"
   ]
  },
  {
   "cell_type": "markdown",
   "metadata": {},
   "source": [
    "## 1f. Create dataloader"
   ]
  },
  {
   "cell_type": "code",
   "execution_count": 9,
   "metadata": {
    "ExecuteTime": {
     "end_time": "2021-01-31T15:09:16.329259Z",
     "start_time": "2021-01-31T15:09:16.324327Z"
    }
   },
   "outputs": [
    {
     "name": "stdout",
     "output_type": "stream",
     "text": [
      "Total training samples --> 8414\n",
      "Total validation samples --> 935\n"
     ]
    }
   ],
   "source": [
    "# Create a dataset class using torch utils\n",
    "from torch.utils.data import TensorDataset, random_split\n",
    "\n",
    "dataset = TensorDataset(input_ids, attention_masks, labels)\n",
    "\n",
    "train_size = int(test_train_split * len(dataset))\n",
    "val_size = len(dataset) - train_size\n",
    "\n",
    "train_dataset, val_dataset = random_split(dataset, [train_size, val_size])\n",
    "\n",
    "print('Total training samples --> {}'.format(len(train_dataset)))\n",
    "print('Total validation samples --> {}'.format(len(val_dataset)))"
   ]
  },
  {
   "cell_type": "code",
   "execution_count": 10,
   "metadata": {
    "ExecuteTime": {
     "end_time": "2021-01-31T15:09:16.332802Z",
     "start_time": "2021-01-31T15:09:16.330047Z"
    }
   },
   "outputs": [],
   "source": [
    "from torch.utils.data import DataLoader, RandomSampler, SequentialSampler\n",
    "\n",
    "train_dataloader = DataLoader(\n",
    "            train_dataset,\n",
    "            sampler = RandomSampler(train_dataset),\n",
    "            batch_size = batch_size\n",
    "        )\n",
    "\n",
    "validation_dataloader = DataLoader(\n",
    "            val_dataset,\n",
    "            sampler = SequentialSampler(val_dataset),\n",
    "            batch_size = batch_size\n",
    "        )"
   ]
  },
  {
   "cell_type": "code",
   "execution_count": 11,
   "metadata": {
    "ExecuteTime": {
     "end_time": "2021-01-31T15:09:16.339388Z",
     "start_time": "2021-01-31T15:09:16.333739Z"
    }
   },
   "outputs": [
    {
     "name": "stdout",
     "output_type": "stream",
     "text": [
      "checking out one batch\n",
      "torch.Size([64, 128]) torch.Size([64, 128]) torch.Size([64])\n"
     ]
    }
   ],
   "source": [
    "print('checking out one batch')\n",
    "x = iter(train_dataloader).next()\n",
    "print(x[0].shape,x[1].shape,x[2].shape)"
   ]
  },
  {
   "cell_type": "markdown",
   "metadata": {
    "ExecuteTime": {
     "end_time": "2021-01-31T10:47:08.757350Z",
     "start_time": "2021-01-31T10:47:08.751170Z"
    }
   },
   "source": [
    "# 2. Training the model "
   ]
  },
  {
   "cell_type": "markdown",
   "metadata": {},
   "source": [
    "## 2a. Load a pretrained bert model with a classificaiton layer"
   ]
  },
  {
   "cell_type": "code",
   "execution_count": 12,
   "metadata": {
    "ExecuteTime": {
     "end_time": "2021-01-31T15:09:21.577565Z",
     "start_time": "2021-01-31T15:09:16.340289Z"
    }
   },
   "outputs": [
    {
     "name": "stderr",
     "output_type": "stream",
     "text": [
      "Some weights of the model checkpoint at bert-base-uncased were not used when initializing BertForSequenceClassification: ['cls.predictions.bias', 'cls.predictions.transform.dense.weight', 'cls.predictions.transform.dense.bias', 'cls.predictions.decoder.weight', 'cls.seq_relationship.weight', 'cls.seq_relationship.bias', 'cls.predictions.transform.LayerNorm.weight', 'cls.predictions.transform.LayerNorm.bias']\n",
      "- This IS expected if you are initializing BertForSequenceClassification from the checkpoint of a model trained on another task or with another architecture (e.g. initializing a BertForSequenceClassification model from a BertForPreTraining model).\n",
      "- This IS NOT expected if you are initializing BertForSequenceClassification from the checkpoint of a model that you expect to be exactly identical (initializing a BertForSequenceClassification model from a BertForSequenceClassification model).\n",
      "Some weights of BertForSequenceClassification were not initialized from the model checkpoint at bert-base-uncased and are newly initialized: ['classifier.weight', 'classifier.bias']\n",
      "You should probably TRAIN this model on a down-stream task to be able to use it for predictions and inference.\n"
     ]
    }
   ],
   "source": [
    "from transformers import BertForSequenceClassification, AdamW, BertConfig\n",
    "\n",
    "# Load pretrained BERT model with a single classification layer on top\n",
    "model = BertForSequenceClassification.from_pretrained(\n",
    "    \"bert-base-uncased\", # Use the 12-layer BERT model, with an uncased vocab.\n",
    "    num_labels = num_output,\n",
    "    output_attentions = False,\n",
    "    output_hidden_states = False\n",
    ")\n",
    "\n",
    "# Load model to device\n",
    "model = model.to(device)"
   ]
  },
  {
   "cell_type": "markdown",
   "metadata": {
    "ExecuteTime": {
     "end_time": "2021-01-31T11:06:48.310533Z",
     "start_time": "2021-01-31T11:06:48.304594Z"
    }
   },
   "source": [
    "## 2b. Freeze base layer and only train the bottleneck layers\n",
    "    - I tried with and without freezing , performance was still same"
   ]
  },
  {
   "cell_type": "code",
   "execution_count": 13,
   "metadata": {
    "ExecuteTime": {
     "end_time": "2021-01-31T15:09:21.585774Z",
     "start_time": "2021-01-31T15:09:21.578487Z"
    }
   },
   "outputs": [
    {
     "name": "stdout",
     "output_type": "stream",
     "text": [
      "The BERT model has 201 different named parameters.\n",
      "\n",
      "==== Embedding Layer ====\n",
      "\n",
      "bert.embeddings.word_embeddings.weight                  (30522, 768) False\n",
      "bert.embeddings.position_embeddings.weight                (512, 768) False\n",
      "bert.embeddings.token_type_embeddings.weight                (2, 768) False\n",
      "bert.embeddings.LayerNorm.weight                              (768,) False\n",
      "bert.embeddings.LayerNorm.bias                                (768,) False\n",
      "\n",
      "==== First Transformer ====\n",
      "\n",
      "bert.encoder.layer.0.attention.self.query.weight          (768, 768) False\n",
      "bert.encoder.layer.0.attention.self.query.bias                (768,) False\n",
      "bert.encoder.layer.0.attention.self.key.weight            (768, 768) False\n",
      "bert.encoder.layer.0.attention.self.key.bias                  (768,) False\n",
      "bert.encoder.layer.0.attention.self.value.weight          (768, 768) False\n",
      "bert.encoder.layer.0.attention.self.value.bias                (768,) False\n",
      "bert.encoder.layer.0.attention.output.dense.weight        (768, 768) False\n",
      "bert.encoder.layer.0.attention.output.dense.bias              (768,) False\n",
      "bert.encoder.layer.0.attention.output.LayerNorm.weight        (768,) False\n",
      "bert.encoder.layer.0.attention.output.LayerNorm.bias          (768,) False\n",
      "bert.encoder.layer.0.intermediate.dense.weight           (3072, 768) False\n",
      "bert.encoder.layer.0.intermediate.dense.bias                 (3072,) False\n",
      "bert.encoder.layer.0.output.dense.weight                 (768, 3072) False\n",
      "bert.encoder.layer.0.output.dense.bias                        (768,) False\n",
      "bert.encoder.layer.0.output.LayerNorm.weight                  (768,) False\n",
      "bert.encoder.layer.0.output.LayerNorm.bias                    (768,) False\n",
      "\n",
      "==== Output Layer ====\n",
      "\n",
      "bert.pooler.dense.weight                                  (768, 768) True\n",
      "bert.pooler.dense.bias                                        (768,) True\n",
      "classifier.weight                                           (3, 768) True\n",
      "classifier.bias                                                 (3,) True\n"
     ]
    }
   ],
   "source": [
    "# Get all of the model's parameters as a list of tuples.\n",
    "params = list(model.named_parameters())\n",
    "\n",
    "print('The BERT model has {:} different named parameters.\\n'.format(len(params)))\n",
    "\n",
    "print('==== Embedding Layer ====\\n')\n",
    "\n",
    "for p in params[0:5]:\n",
    "    p[1].requires_grad = False\n",
    "    print(\"{:<55} {:>12}\".format(p[0], str(tuple(p[1].size()))),p[1].requires_grad)\n",
    "\n",
    "print('\\n==== First Transformer ====\\n')\n",
    "\n",
    "for p in params[5:21]:\n",
    "    p[1].requires_grad = False\n",
    "    print(\"{:<55} {:>12}\".format(p[0], str(tuple(p[1].size()))), p[1].requires_grad)\n",
    "\n",
    "print('\\n==== Output Layer ====\\n')\n",
    "\n",
    "for p in params[-4:]:\n",
    "    p[1].requires_grad = True\n",
    "    print(\"{:<55} {:>12}\".format(p[0], str(tuple(p[1].size()))),p[1].requires_grad)"
   ]
  },
  {
   "cell_type": "markdown",
   "metadata": {},
   "source": [
    "## 2c. Train settings"
   ]
  },
  {
   "cell_type": "code",
   "execution_count": 14,
   "metadata": {
    "ExecuteTime": {
     "end_time": "2021-01-31T15:09:21.589434Z",
     "start_time": "2021-01-31T15:09:21.586891Z"
    }
   },
   "outputs": [],
   "source": [
    "# Optimizer from hugging face transformers\n",
    "optimizer = AdamW(\n",
    "    model.parameters(),\n",
    "    lr=1e-5,\n",
    ")"
   ]
  },
  {
   "cell_type": "code",
   "execution_count": 15,
   "metadata": {
    "ExecuteTime": {
     "end_time": "2021-01-31T15:09:21.598407Z",
     "start_time": "2021-01-31T15:09:21.590637Z"
    }
   },
   "outputs": [],
   "source": [
    "from transformers import get_linear_schedule_with_warmup\n",
    "\n",
    "# Total number of training steps is [number of batches] x [number of epochs]. \n",
    "# (Note that this is not the same as the number of training samples).\n",
    "total_steps = len(train_dataloader) * epochs\n",
    "\n",
    "# Create the learning rate scheduler.\n",
    "scheduler = get_linear_schedule_with_warmup(optimizer, \n",
    "                                            num_warmup_steps = 0, # Default value in run_glue.py\n",
    "                                            num_training_steps = total_steps)"
   ]
  },
  {
   "cell_type": "code",
   "execution_count": 16,
   "metadata": {
    "ExecuteTime": {
     "end_time": "2021-01-31T15:09:21.603683Z",
     "start_time": "2021-01-31T15:09:21.599481Z"
    }
   },
   "outputs": [],
   "source": [
    "# Helper function to calculate the accuracy of our predictions vs labels\n",
    "def flat_accuracy(preds, labels):\n",
    "    \n",
    "    pred_flat = np.argmax(preds, axis=1).flatten()\n",
    "    labels_flat = labels.flatten()\n",
    "    return np.sum(pred_flat == labels_flat) / len(labels_flat)\n",
    "\n",
    "# Helper function to calculate epoch time\n",
    "def format_time(elapsed):\n",
    "    '''\n",
    "    Takes a time in seconds and returns a string hh:mm:ss\n",
    "    '''\n",
    "    # Round to the nearest second.\n",
    "    elapsed_rounded = int(round((elapsed)))\n",
    "\n",
    "    # Format as hh:mm:ss\n",
    "    return str(datetime.timedelta(seconds=elapsed_rounded))"
   ]
  },
  {
   "cell_type": "markdown",
   "metadata": {},
   "source": [
    "## 2d. Train loop"
   ]
  },
  {
   "cell_type": "code",
   "execution_count": 17,
   "metadata": {
    "ExecuteTime": {
     "end_time": "2021-01-31T15:16:54.226884Z",
     "start_time": "2021-01-31T15:09:21.604529Z"
    }
   },
   "outputs": [
    {
     "name": "stdout",
     "output_type": "stream",
     "text": [
      "\n",
      "======== Epoch 1 / 5 ========\n",
      "Training...\n",
      "  Batch    40  of    132.    Elapsed: 0:00:27.\n",
      "  Batch    80  of    132.    Elapsed: 0:00:53.\n",
      "  Batch   120  of    132.    Elapsed: 0:01:19.\n",
      "\n",
      "  Average training loss: 1.00\n",
      "  Training epcoh took: 0:01:27\n",
      "\n",
      "Running Validation...\n",
      "  Accuracy: 0.66\n",
      "  Validation Loss: 0.82\n",
      "  Validation took: 0:00:04\n",
      "\n",
      "======== Epoch 2 / 5 ========\n",
      "Training...\n",
      "  Batch    40  of    132.    Elapsed: 0:00:26.\n",
      "  Batch    80  of    132.    Elapsed: 0:00:52.\n",
      "  Batch   120  of    132.    Elapsed: 0:01:19.\n",
      "\n",
      "  Average training loss: 0.75\n",
      "  Training epcoh took: 0:01:26\n",
      "\n",
      "Running Validation...\n",
      "  Accuracy: 0.74\n",
      "  Validation Loss: 0.66\n",
      "  Validation took: 0:00:04\n",
      "\n",
      "======== Epoch 3 / 5 ========\n",
      "Training...\n",
      "  Batch    40  of    132.    Elapsed: 0:00:26.\n",
      "  Batch    80  of    132.    Elapsed: 0:00:53.\n",
      "  Batch   120  of    132.    Elapsed: 0:01:20.\n",
      "\n",
      "  Average training loss: 0.62\n",
      "  Training epcoh took: 0:01:28\n",
      "\n",
      "Running Validation...\n",
      "  Accuracy: 0.77\n",
      "  Validation Loss: 0.60\n",
      "  Validation took: 0:00:04\n",
      "\n",
      "======== Epoch 4 / 5 ========\n",
      "Training...\n",
      "  Batch    40  of    132.    Elapsed: 0:00:26.\n",
      "  Batch    80  of    132.    Elapsed: 0:00:53.\n",
      "  Batch   120  of    132.    Elapsed: 0:01:19.\n",
      "\n",
      "  Average training loss: 0.55\n",
      "  Training epcoh took: 0:01:27\n",
      "\n",
      "Running Validation...\n",
      "  Accuracy: 0.78\n",
      "  Validation Loss: 0.57\n",
      "  Validation took: 0:00:04\n",
      "\n",
      "======== Epoch 5 / 5 ========\n",
      "Training...\n",
      "  Batch    40  of    132.    Elapsed: 0:00:26.\n",
      "  Batch    80  of    132.    Elapsed: 0:00:53.\n",
      "  Batch   120  of    132.    Elapsed: 0:01:19.\n",
      "\n",
      "  Average training loss: 0.52\n",
      "  Training epcoh took: 0:01:27\n",
      "\n",
      "Running Validation...\n",
      "  Accuracy: 0.78\n",
      "  Validation Loss: 0.56\n",
      "  Validation took: 0:00:04\n",
      "\n",
      "Training complete!\n",
      "Total training took 0:07:33 (h:mm:ss)\n"
     ]
    }
   ],
   "source": [
    "# This training code is based on the `run_glue.py` script here:\n",
    "# http://mccormickml.com/2019/07/22/BERT-fine-tuning/\n",
    "\n",
    "# Set the seed value all over the place to make this reproducible.\n",
    "seed_val = 42\n",
    "\n",
    "random.seed(seed_val)\n",
    "np.random.seed(seed_val)\n",
    "torch.manual_seed(seed_val)\n",
    "torch.cuda.manual_seed_all(seed_val)\n",
    "\n",
    "# We'll store a number of quantities such as training and validation loss, \n",
    "# validation accuracy, and timings.\n",
    "training_stats = []\n",
    "\n",
    "# Measure the total training time for the whole run.\n",
    "total_t0 = time.time()\n",
    "\n",
    "# For each epoch...\n",
    "for epoch_i in range(0, epochs):\n",
    "    \n",
    "    # ========================================\n",
    "    #               Training\n",
    "    # ========================================\n",
    "    \n",
    "    # Perform one full pass over the training set.\n",
    "\n",
    "    print(\"\")\n",
    "    print('======== Epoch {:} / {:} ========'.format(epoch_i + 1, epochs))\n",
    "    print('Training...')\n",
    "\n",
    "    # Measure how long the training epoch takes.\n",
    "    t0 = time.time()\n",
    "\n",
    "    # Reset the total loss for this epoch.\n",
    "    total_train_loss = 0\n",
    "\n",
    "    # Put the model into training mode. Don't be mislead--the call to \n",
    "    # `train` just changes the *mode*, it doesn't *perform* the training.\n",
    "    # `dropout` and `batchnorm` layers behave differently during training\n",
    "    # vs. test (source: https://stackoverflow.com/questions/51433378/what-does-model-train-do-in-pytorch)\n",
    "    model.train()\n",
    "\n",
    "    # For each batch of training data...\n",
    "    for step, batch in enumerate(train_dataloader):\n",
    "\n",
    "        # Progress update every 40 batches.\n",
    "        if step % 40 == 0 and not step == 0:\n",
    "            # Calculate elapsed time in minutes.\n",
    "            elapsed = format_time(time.time() - t0)\n",
    "            \n",
    "            # Report progress.\n",
    "            print('  Batch {:>5,}  of  {:>5,}.    Elapsed: {:}.'.format(step, len(train_dataloader), elapsed))\n",
    "\n",
    "        # Unpack this training batch from our dataloader. \n",
    "        #\n",
    "        # As we unpack the batch, we'll also copy each tensor to the GPU using the \n",
    "        # `to` method.\n",
    "        #\n",
    "        # `batch` contains three pytorch tensors:\n",
    "        #   [0]: input ids \n",
    "        #   [1]: attention masks\n",
    "        #   [2]: labels \n",
    "        b_input_ids = batch[0].to(device)\n",
    "        b_input_mask = batch[1].to(device)\n",
    "        b_labels = batch[2].to(device)\n",
    "\n",
    "        # Always clear any previously calculated gradients before performing a\n",
    "        # backward pass. PyTorch doesn't do this automatically because \n",
    "        # accumulating the gradients is \"convenient while training RNNs\". \n",
    "        # (source: https://stackoverflow.com/questions/48001598/why-do-we-need-to-call-zero-grad-in-pytorch)\n",
    "        model.zero_grad()        \n",
    "\n",
    "        # Perform a forward pass (evaluate the model on this training batch).\n",
    "        output = model(b_input_ids, \n",
    "                             token_type_ids=None, \n",
    "                             attention_mask=b_input_mask, \n",
    "                             labels=b_labels)\n",
    "        loss = output.loss\n",
    "        logits = output.logits\n",
    "\n",
    "        # Accumulate the training loss over all of the batches so that we can\n",
    "        # calculate the average loss at the end. `loss` is a Tensor containing a\n",
    "        # single value; the `.item()` function just returns the Python value \n",
    "        # from the tensor.\n",
    "        total_train_loss += loss.item()\n",
    "\n",
    "        # Perform a backward pass to calculate the gradients.\n",
    "        loss.backward()\n",
    "\n",
    "        # Clip the norm of the gradients to 1.0.\n",
    "        # This is to help prevent the \"exploding gradients\" problem.\n",
    "        torch.nn.utils.clip_grad_norm_(model.parameters(), 1.0)\n",
    "\n",
    "        # Update parameters and take a step using the computed gradient.\n",
    "        # The optimizer dictates the \"update rule\"--how the parameters are\n",
    "        # modified based on their gradients, the learning rate, etc.\n",
    "        optimizer.step()\n",
    "\n",
    "        # Update the learning rate.\n",
    "        scheduler.step()\n",
    "\n",
    "    # Calculate the average loss over all of the batches.\n",
    "    avg_train_loss = total_train_loss / len(train_dataloader)            \n",
    "    \n",
    "    # Measure how long this epoch took.\n",
    "    training_time = format_time(time.time() - t0)\n",
    "\n",
    "    print(\"\")\n",
    "    print(\"  Average training loss: {0:.2f}\".format(avg_train_loss))\n",
    "    print(\"  Training epcoh took: {:}\".format(training_time))\n",
    "        \n",
    "    # ========================================\n",
    "    #               Validation\n",
    "    # ========================================\n",
    "\n",
    "    print(\"\")\n",
    "    print(\"Running Validation...\")\n",
    "\n",
    "    t0 = time.time()\n",
    "\n",
    "    # Put the model in evaluation mode--the dropout layers behave differently\n",
    "    # during evaluation.\n",
    "    model.eval()\n",
    "\n",
    "    # Tracking variables \n",
    "    total_eval_accuracy = 0\n",
    "    total_eval_loss = 0\n",
    "    nb_eval_steps = 0\n",
    "\n",
    "    # Evaluate data for one epoch\n",
    "    for batch in validation_dataloader:\n",
    "        \n",
    "        # Unpack this training batch from our dataloader. \n",
    "        #\n",
    "        # As we unpack the batch, we'll also copy each tensor to the GPU using \n",
    "        # the `to` method.\n",
    "        #\n",
    "        # `batch` contains three pytorch tensors:\n",
    "        #   [0]: input ids \n",
    "        #   [1]: attention masks\n",
    "        #   [2]: labels \n",
    "        b_input_ids = batch[0].to(device)\n",
    "        b_input_mask = batch[1].to(device)\n",
    "        b_labels = batch[2].to(device)\n",
    "        \n",
    "        # Tell pytorch not to bother with constructing the compute graph during\n",
    "        # the forward pass, since this is only needed for backprop (training).\n",
    "        with torch.no_grad():        \n",
    "\n",
    "            # Forward pass, calculate logit predictions.\n",
    "            output = model(b_input_ids, \n",
    "                                   token_type_ids=None, \n",
    "                                   attention_mask=b_input_mask,\n",
    "                                   labels=b_labels)\n",
    "            \n",
    "            loss = output.loss\n",
    "            logits = output.logits\n",
    "        # Accumulate the validation loss.\n",
    "        total_eval_loss += loss.item()\n",
    "\n",
    "        # Move logits and labels to CPU\n",
    "        logits = logits.detach().cpu().numpy()\n",
    "        label_ids = b_labels.to('cpu').numpy()\n",
    "\n",
    "        # Calculate the accuracy for this batch of test sentences, and\n",
    "        # accumulate it over all batches.\n",
    "        total_eval_accuracy += flat_accuracy(logits, label_ids)\n",
    "        \n",
    "\n",
    "    # Report the final accuracy for this validation run.\n",
    "    avg_val_accuracy = total_eval_accuracy / len(validation_dataloader)\n",
    "    print(\"  Accuracy: {0:.2f}\".format(avg_val_accuracy))\n",
    "\n",
    "    # Calculate the average loss over all of the batches.\n",
    "    avg_val_loss = total_eval_loss / len(validation_dataloader)\n",
    "    \n",
    "    # Measure how long the validation run took.\n",
    "    validation_time = format_time(time.time() - t0)\n",
    "    \n",
    "    print(\"  Validation Loss: {0:.2f}\".format(avg_val_loss))\n",
    "    print(\"  Validation took: {:}\".format(validation_time))\n",
    "\n",
    "    # Record all statistics from this epoch.\n",
    "    training_stats.append(\n",
    "        {\n",
    "            'epoch': epoch_i + 1,\n",
    "            'Training Loss': avg_train_loss,\n",
    "            'Valid. Loss': avg_val_loss,\n",
    "            'Valid. Accur.': avg_val_accuracy,\n",
    "            'Training Time': training_time,\n",
    "            'Validation Time': validation_time\n",
    "        }\n",
    "    )\n",
    "\n",
    "print(\"\")\n",
    "print(\"Training complete!\")\n",
    "\n",
    "print(\"Total training took {:} (h:mm:ss)\".format(format_time(time.time()-total_t0)))"
   ]
  },
  {
   "cell_type": "markdown",
   "metadata": {},
   "source": [
    "## 2e. Save models for later reference"
   ]
  },
  {
   "cell_type": "code",
   "execution_count": 18,
   "metadata": {
    "ExecuteTime": {
     "end_time": "2021-01-31T15:16:54.822225Z",
     "start_time": "2021-01-31T15:16:54.228070Z"
    }
   },
   "outputs": [
    {
     "name": "stdout",
     "output_type": "stream",
     "text": [
      "Saving model to ./final_model_bert/\n"
     ]
    },
    {
     "data": {
      "text/plain": [
       "('./final_model_bert/tokenizer_config.json',\n",
       " './final_model_bert/special_tokens_map.json',\n",
       " './final_model_bert/vocab.txt',\n",
       " './final_model_bert/added_tokens.json')"
      ]
     },
     "execution_count": 18,
     "metadata": {},
     "output_type": "execute_result"
    }
   ],
   "source": [
    "# Saving the model\n",
    "output_dir = './final_model_bert/'\n",
    "\n",
    "# Create output directory if needed\n",
    "if not os.path.exists(output_dir):\n",
    "    os.makedirs(output_dir)\n",
    "\n",
    "print(\"Saving model to %s\" % output_dir)\n",
    "\n",
    "model_to_save = model.module if hasattr(model, 'module') else model  # Take care of distributed/parallel training\n",
    "model_to_save.save_pretrained(output_dir)\n",
    "tokenizer.save_pretrained(output_dir)"
   ]
  },
  {
   "cell_type": "markdown",
   "metadata": {},
   "source": [
    "## 2f. Display train stats"
   ]
  },
  {
   "cell_type": "code",
   "execution_count": 19,
   "metadata": {
    "ExecuteTime": {
     "end_time": "2021-01-31T15:16:54.830248Z",
     "start_time": "2021-01-31T15:16:54.823111Z"
    }
   },
   "outputs": [
    {
     "data": {
      "text/html": [
       "<div>\n",
       "<style scoped>\n",
       "    .dataframe tbody tr th:only-of-type {\n",
       "        vertical-align: middle;\n",
       "    }\n",
       "\n",
       "    .dataframe tbody tr th {\n",
       "        vertical-align: top;\n",
       "    }\n",
       "\n",
       "    .dataframe thead th {\n",
       "        text-align: right;\n",
       "    }\n",
       "</style>\n",
       "<table border=\"1\" class=\"dataframe\">\n",
       "  <thead>\n",
       "    <tr style=\"text-align: right;\">\n",
       "      <th></th>\n",
       "      <th>Training Loss</th>\n",
       "      <th>Valid. Loss</th>\n",
       "      <th>Valid. Accur.</th>\n",
       "      <th>Training Time</th>\n",
       "      <th>Validation Time</th>\n",
       "    </tr>\n",
       "    <tr>\n",
       "      <th>epoch</th>\n",
       "      <th></th>\n",
       "      <th></th>\n",
       "      <th></th>\n",
       "      <th></th>\n",
       "      <th></th>\n",
       "    </tr>\n",
       "  </thead>\n",
       "  <tbody>\n",
       "    <tr>\n",
       "      <th>1</th>\n",
       "      <td>1.00</td>\n",
       "      <td>0.82</td>\n",
       "      <td>0.66</td>\n",
       "      <td>0:01:27</td>\n",
       "      <td>0:00:04</td>\n",
       "    </tr>\n",
       "    <tr>\n",
       "      <th>2</th>\n",
       "      <td>0.75</td>\n",
       "      <td>0.66</td>\n",
       "      <td>0.74</td>\n",
       "      <td>0:01:26</td>\n",
       "      <td>0:00:04</td>\n",
       "    </tr>\n",
       "    <tr>\n",
       "      <th>3</th>\n",
       "      <td>0.62</td>\n",
       "      <td>0.60</td>\n",
       "      <td>0.77</td>\n",
       "      <td>0:01:28</td>\n",
       "      <td>0:00:04</td>\n",
       "    </tr>\n",
       "    <tr>\n",
       "      <th>4</th>\n",
       "      <td>0.55</td>\n",
       "      <td>0.57</td>\n",
       "      <td>0.78</td>\n",
       "      <td>0:01:27</td>\n",
       "      <td>0:00:04</td>\n",
       "    </tr>\n",
       "    <tr>\n",
       "      <th>5</th>\n",
       "      <td>0.52</td>\n",
       "      <td>0.56</td>\n",
       "      <td>0.78</td>\n",
       "      <td>0:01:27</td>\n",
       "      <td>0:00:04</td>\n",
       "    </tr>\n",
       "  </tbody>\n",
       "</table>\n",
       "</div>"
      ],
      "text/plain": [
       "       Training Loss  Valid. Loss  Valid. Accur. Training Time Validation Time\n",
       "epoch                                                                         \n",
       "1               1.00         0.82           0.66       0:01:27         0:00:04\n",
       "2               0.75         0.66           0.74       0:01:26         0:00:04\n",
       "3               0.62         0.60           0.77       0:01:28         0:00:04\n",
       "4               0.55         0.57           0.78       0:01:27         0:00:04\n",
       "5               0.52         0.56           0.78       0:01:27         0:00:04"
      ]
     },
     "execution_count": 19,
     "metadata": {},
     "output_type": "execute_result"
    }
   ],
   "source": [
    "# Display floats with two decimal places.\n",
    "pd.set_option('precision', 2)\n",
    "\n",
    "# Create a DataFrame from our training statistics.\n",
    "df_stats = pd.DataFrame(data=training_stats)\n",
    "\n",
    "# Use the 'epoch' as the row index.\n",
    "df_stats = df_stats.set_index('epoch')\n",
    "\n",
    "# A hack to force the column headers to wrap.\n",
    "#df = df.style.set_table_styles([dict(selector=\"th\",props=[('max-width', '70px')])])\n",
    "\n",
    "# Display the table.\n",
    "df_stats"
   ]
  },
  {
   "cell_type": "code",
   "execution_count": 20,
   "metadata": {
    "ExecuteTime": {
     "end_time": "2021-01-31T15:16:55.059949Z",
     "start_time": "2021-01-31T15:16:54.831173Z"
    }
   },
   "outputs": [
    {
     "data": {
      "image/png": "[encoded data removed]",
      "text/plain": [
       "<Figure size 864x432 with 1 Axes>"
      ]
     },
     "metadata": {},
     "output_type": "display_data"
    }
   ],
   "source": [
    "import matplotlib.pyplot as plt\n",
    "import seaborn as sns\n",
    "\n",
    "# Use plot styling from seaborn.\n",
    "sns.set(style='darkgrid')\n",
    "\n",
    "# Increase the plot size and font size.\n",
    "sns.set(font_scale=1.5)\n",
    "plt.rcParams[\"figure.figsize\"] = (12,6)\n",
    "\n",
    "# Plot the learning curve.\n",
    "plt.plot(df_stats['Training Loss'], 'b-o', label=\"Training\")\n",
    "plt.plot(df_stats['Valid. Loss'], 'g-o', label=\"Validation\")\n",
    "\n",
    "# Label the plot.\n",
    "plt.title(\"Training & Validation Loss\")\n",
    "plt.xlabel(\"Epoch\")\n",
    "plt.ylabel(\"Loss\")\n",
    "plt.legend()\n",
    "plt.xticks([1, 2, 3, 4])\n",
    "\n",
    "plt.show()"
   ]
  },
  {
   "cell_type": "markdown",
   "metadata": {},
   "source": [
    "# Inference"
   ]
  },
  {
   "cell_type": "code",
   "execution_count": 21,
   "metadata": {
    "ExecuteTime": {
     "end_time": "2021-01-31T15:16:55.062908Z",
     "start_time": "2021-01-31T15:16:55.061525Z"
    }
   },
   "outputs": [],
   "source": [
    "# # Load a trained model and vocabulary that you have fine-tuned\n",
    "# model = BertForSequenceClassification.from_pretrained(output_dir)\n",
    "# model = model.to(device)\n",
    "# tokenizer = tokenizer.from_pretrained(output_dir)"
   ]
  },
  {
   "cell_type": "markdown",
   "metadata": {},
   "source": [
    "## 3a. Load inference data "
   ]
  },
  {
   "cell_type": "code",
   "execution_count": 22,
   "metadata": {
    "ExecuteTime": {
     "end_time": "2021-01-31T15:16:55.070760Z",
     "start_time": "2021-01-31T15:16:55.063891Z"
    }
   },
   "outputs": [],
   "source": [
    "test_df = pd.read_csv(\"../dataset/assignment_data_set/test_sample.csv\")\n",
    "test_label = pd.read_csv(\"../dataset/assignment_data_set/predicted_sample.csv\")"
   ]
  },
  {
   "cell_type": "code",
   "execution_count": 23,
   "metadata": {
    "ExecuteTime": {
     "end_time": "2021-01-31T15:16:55.074476Z",
     "start_time": "2021-01-31T15:16:55.071722Z"
    }
   },
   "outputs": [],
   "source": [
    "# helper function to test similarity\n",
    "def test_similarity(test_sentence_pair):\n",
    "    sen_input_id,sen_attn_mask = get_tokernized_values(test_sentence_pair)\n",
    "    sen_input_id = sen_input_id.to(device)\n",
    "    sen_attn_mask = sen_attn_mask.to(device)\n",
    "    outputs = model(sen_input_id, token_type_ids=None, attention_mask=sen_attn_mask)\n",
    "    logits = outputs[0]\n",
    "    logits = logits.argmax(dim = 1)\n",
    "    logits = logits.to('cpu').numpy()\n",
    "    return label_dict[logits[0]]"
   ]
  },
  {
   "cell_type": "markdown",
   "metadata": {},
   "source": [
    "## 3b. Test example1"
   ]
  },
  {
   "cell_type": "code",
   "execution_count": 24,
   "metadata": {
    "ExecuteTime": {
     "end_time": "2021-01-31T15:16:55.093572Z",
     "start_time": "2021-01-31T15:16:55.075260Z"
    }
   },
   "outputs": [
    {
     "name": "stdout",
     "output_type": "stream",
     "text": [
      "test sentece pair --> ['A group of people gathered to watch fireworks.', 'There are some guys setting of fireworks.']\n",
      "--------------------\n",
      "predicted class --> entailment\n"
     ]
    },
    {
     "name": "stderr",
     "output_type": "stream",
     "text": [
      "/home/deep/.virtualenvs/pytorch/lib/python3.8/site-packages/transformers/tokenization_utils_base.py:2137: FutureWarning: The `pad_to_max_length` argument is deprecated and will be removed in a future version, use `padding=True` or `padding='longest'` to pad to the longest sequence in the batch, or use `padding='max_length'` to pad to a max length. In this case, you can give a specific length with `max_length` (e.g. `max_length=45`) or leave max_length to None to pad to the maximal input size of the model (e.g. 512 for Bert).\n",
      "  warnings.warn(\n"
     ]
    }
   ],
   "source": [
    "test_sentence_pair = test_df.sample(n=1)\n",
    "test_sentence_pair = [test_sentence_pair['sentence1'].values[0], test_sentence_pair['sentence2'].values[0]]\n",
    "print('test sentece pair -->',test_sentence_pair)\n",
    "print('--------------------')\n",
    "\n",
    "# inference\n",
    "print('predicted class -->',test_similarity(test_sentence_pair))"
   ]
  },
  {
   "cell_type": "markdown",
   "metadata": {},
   "source": [
    "## 3b. Test example2"
   ]
  },
  {
   "cell_type": "code",
   "execution_count": 27,
   "metadata": {
    "ExecuteTime": {
     "end_time": "2021-01-31T15:19:01.051541Z",
     "start_time": "2021-01-31T15:19:01.014349Z"
    }
   },
   "outputs": [
    {
     "name": "stdout",
     "output_type": "stream",
     "text": [
      "test sentece pair --> ['A woman walks next to a subway exit.', 'A woman is on here way home.']\n",
      "--------------------\n",
      "predicted class --> neutral\n"
     ]
    }
   ],
   "source": [
    "test_sentence_pair = test_df.sample(n=1)\n",
    "test_sentence_pair = [test_sentence_pair['sentence1'].values[0], test_sentence_pair['sentence2'].values[0]]\n",
    "print('test sentece pair -->',test_sentence_pair)\n",
    "print('--------------------')\n",
    "\n",
    "# inference\n",
    "print('predicted class -->',test_similarity(test_sentence_pair))"
   ]
  },
  {
   "cell_type": "markdown",
   "metadata": {},
   "source": [
    "## 3c. Test example3"
   ]
  },
  {
   "cell_type": "code",
   "execution_count": 26,
   "metadata": {
    "ExecuteTime": {
     "end_time": "2021-01-31T15:16:55.123090Z",
     "start_time": "2021-01-31T15:16:55.109675Z"
    }
   },
   "outputs": [
    {
     "name": "stdout",
     "output_type": "stream",
     "text": [
      "test sentece pair --> ['A thin man in a maroon shirt standing next to a pay phone.', 'A man in a maroon shirt is sitting on the train.']\n",
      "--------------------\n",
      "predicted class --> contradiction\n"
     ]
    }
   ],
   "source": [
    "test_sentence_pair = test_df.sample(n=1)\n",
    "test_sentence_pair = [test_sentence_pair['sentence1'].values[0], test_sentence_pair['sentence2'].values[0]]\n",
    "print('test sentece pair -->',test_sentence_pair)\n",
    "print('--------------------')\n",
    "\n",
    "# inference\n",
    "print('predicted class -->',test_similarity(test_sentence_pair))"
   ]
  },
  {
   "cell_type": "code",
   "execution_count": null,
   "metadata": {},
   "outputs": [],
   "source": []
  }
 ],
 "metadata": {
  "kernelspec": {
   "display_name": "pytorch",
   "language": "python",
   "name": "pytorch"
  },
  "language_info": {
   "codemirror_mode": {
    "name": "ipython",
    "version": 3
   },
   "file_extension": ".py",
   "mimetype": "text/x-python",
   "name": "python",
   "nbconvert_exporter": "python",
   "pygments_lexer": "ipython3",
   "version": "3.8.5"
  }
 },
 "nbformat": 4,
 "nbformat_minor": 4
}