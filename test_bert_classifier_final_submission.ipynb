{
 "cells": [
  {
   "cell_type": "markdown",
   "metadata": {},
   "source": [
    "# Inference code for bert classifier"
   ]
  },
  {
   "cell_type": "code",
   "execution_count": 1,
   "metadata": {
    "ExecuteTime": {
     "end_time": "2021-01-31T15:19:46.083169Z",
     "start_time": "2021-01-31T15:19:45.547076Z"
    }
   },
   "outputs": [],
   "source": [
    "import transformers\n",
    "import torch\n",
    "\n",
    "from transformers import BertForSequenceClassification\n",
    "\n",
    "from tqdm import tqdm as tqdm\n",
    "import pandas as pd"
   ]
  },
  {
   "cell_type": "code",
   "execution_count": 2,
   "metadata": {
    "ExecuteTime": {
     "end_time": "2021-01-31T15:19:47.644822Z",
     "start_time": "2021-01-31T15:19:47.604448Z"
    }
   },
   "outputs": [],
   "source": [
    "## GLOBAL SETTINGS\n",
    "device = torch.device(\"cuda\" if torch.cuda.is_available() else \"cpu\")\n",
    "label_dict = {\n",
    "    0: 'contradiction',\n",
    "    1: 'entailment',\n",
    "    2: 'neutral'\n",
    "}  # output label and there index\n",
    "max_len = 128  # Max length of input sentence"
   ]
  },
  {
   "cell_type": "code",
   "execution_count": 4,
   "metadata": {
    "ExecuteTime": {
     "end_time": "2021-01-31T15:20:04.073380Z",
     "start_time": "2021-01-31T15:19:59.603454Z"
    }
   },
   "outputs": [
    {
     "name": "stdout",
     "output_type": "stream",
     "text": [
      "Loading BERT tokenizer from transformer library...\n",
      "Loading trained model for inference...\n"
     ]
    }
   ],
   "source": [
    "print('Loading BERT tokenizer from transformer library...')\n",
    "tokenizer = transformers.BertTokenizer.from_pretrained('bert-base-uncased',\n",
    "                                                       do_lower_case=True)\n",
    "\n",
    "print('Loading trained model for inference...')\n",
    "model = BertForSequenceClassification.from_pretrained('./final_model_bert/')\n",
    "model = model.to(device)"
   ]
  },
  {
   "cell_type": "code",
   "execution_count": 5,
   "metadata": {
    "ExecuteTime": {
     "end_time": "2021-01-31T15:20:04.563528Z",
     "start_time": "2021-01-31T15:20:04.552024Z"
    }
   },
   "outputs": [],
   "source": [
    "# Helper function to get tokenized vectors from bert for each sentence\n",
    "def get_tokernized_values(each_sen_pair):\n",
    "    encoded_dict = tokenizer.encode_plus(\n",
    "        text=each_sen_pair[0],  # Sentence to encode.\n",
    "        text_pair=each_sen_pair[1],  # for text pair ## TODO check this??\n",
    "        add_special_tokens=True,  # Add '[CLS]' and '[SEP]'\n",
    "        max_length=max_len,  # Pad & truncate all sentences.\n",
    "        pad_to_max_length=True,\n",
    "        return_attention_mask=True,  # Construct attn. masks.\n",
    "        return_tensors='pt',  # Return pytorch tensors.\n",
    "    )\n",
    "    return encoded_dict['input_ids'], encoded_dict['attention_mask']\n",
    "\n",
    "\n",
    "# Helper function to test similarity\n",
    "def test_similarity(test_sentence_pair):\n",
    "    sen_input_id, sen_attn_mask = get_tokernized_values(test_sentence_pair)\n",
    "    sen_input_id = sen_input_id.to(device)\n",
    "    sen_attn_mask = sen_attn_mask.to(device)\n",
    "    outputs = model(sen_input_id,\n",
    "                    token_type_ids=None,\n",
    "                    attention_mask=sen_attn_mask)\n",
    "    logits = outputs[0]\n",
    "    logits = logits.argmax(dim=1)\n",
    "    logits = logits.to('cpu').numpy()\n",
    "    return label_dict[logits[0]]"
   ]
  },
  {
   "cell_type": "code",
   "execution_count": 6,
   "metadata": {
    "ExecuteTime": {
     "end_time": "2021-01-31T15:20:05.261695Z",
     "start_time": "2021-01-31T15:20:05.243448Z"
    }
   },
   "outputs": [],
   "source": [
    "final_test_df = pd.read_csv('../dataset/assignment_data_set/test.csv')\n",
    "final_df_label = pd.DataFrame(columns=['gold_label'])"
   ]
  },
  {
   "cell_type": "code",
   "execution_count": 7,
   "metadata": {
    "ExecuteTime": {
     "end_time": "2021-01-31T15:20:10.733061Z",
     "start_time": "2021-01-31T15:20:05.819303Z"
    }
   },
   "outputs": [
    {
     "name": "stderr",
     "output_type": "stream",
     "text": [
      "0it [00:00, ?it/s]Truncation was not explicitly activated but `max_length` is provided a specific value, please use `truncation=True` to explicitly truncate examples to max length. Defaulting to 'longest_first' truncation strategy. If you encode pairs of sequences (GLUE-style) with the tokenizer you can select this strategy more precisely by providing a specific strategy to `truncation`.\n",
      "/home/deep/.virtualenvs/pytorch/lib/python3.8/site-packages/transformers/tokenization_utils_base.py:2137: FutureWarning: The `pad_to_max_length` argument is deprecated and will be removed in a future version, use `padding=True` or `padding='longest'` to pad to the longest sequence in the batch, or use `padding='max_length'` to pad to a max length. In this case, you can give a specific length with `max_length` (e.g. `max_length=45`) or leave max_length to None to pad to the maximal input size of the model (e.g. 512 for Bert).\n",
      "  warnings.warn(\n",
      "493it [00:04, 100.53it/s]\n"
     ]
    }
   ],
   "source": [
    "for index, row in tqdm(final_test_df.iterrows()):\n",
    "    sen_1,sen_2 = row['sentence1'],row['sentence2']\n",
    "    result = test_similarity([sen_1,sen_2])\n",
    "    final_df_label.at[index, 'gold_label'] = str(result)"
   ]
  },
  {
   "cell_type": "code",
   "execution_count": 8,
   "metadata": {
    "ExecuteTime": {
     "end_time": "2021-01-31T15:20:23.358421Z",
     "start_time": "2021-01-31T15:20:23.324334Z"
    }
   },
   "outputs": [
    {
     "data": {
      "text/html": [
       "<div>\n",
       "<style scoped>\n",
       "    .dataframe tbody tr th:only-of-type {\n",
       "        vertical-align: middle;\n",
       "    }\n",
       "\n",
       "    .dataframe tbody tr th {\n",
       "        vertical-align: top;\n",
       "    }\n",
       "\n",
       "    .dataframe thead th {\n",
       "        text-align: right;\n",
       "    }\n",
       "</style>\n",
       "<table border=\"1\" class=\"dataframe\">\n",
       "  <thead>\n",
       "    <tr style=\"text-align: right;\">\n",
       "      <th></th>\n",
       "      <th>gold_label</th>\n",
       "    </tr>\n",
       "  </thead>\n",
       "  <tbody>\n",
       "    <tr>\n",
       "      <th>0</th>\n",
       "      <td>entailment</td>\n",
       "    </tr>\n",
       "    <tr>\n",
       "      <th>1</th>\n",
       "      <td>neutral</td>\n",
       "    </tr>\n",
       "    <tr>\n",
       "      <th>2</th>\n",
       "      <td>entailment</td>\n",
       "    </tr>\n",
       "    <tr>\n",
       "      <th>3</th>\n",
       "      <td>contradiction</td>\n",
       "    </tr>\n",
       "    <tr>\n",
       "      <th>4</th>\n",
       "      <td>neutral</td>\n",
       "    </tr>\n",
       "    <tr>\n",
       "      <th>...</th>\n",
       "      <td>...</td>\n",
       "    </tr>\n",
       "    <tr>\n",
       "      <th>488</th>\n",
       "      <td>entailment</td>\n",
       "    </tr>\n",
       "    <tr>\n",
       "      <th>489</th>\n",
       "      <td>neutral</td>\n",
       "    </tr>\n",
       "    <tr>\n",
       "      <th>490</th>\n",
       "      <td>contradiction</td>\n",
       "    </tr>\n",
       "    <tr>\n",
       "      <th>491</th>\n",
       "      <td>contradiction</td>\n",
       "    </tr>\n",
       "    <tr>\n",
       "      <th>492</th>\n",
       "      <td>entailment</td>\n",
       "    </tr>\n",
       "  </tbody>\n",
       "</table>\n",
       "<p>493 rows × 1 columns</p>\n",
       "</div>"
      ],
      "text/plain": [
       "        gold_label\n",
       "0       entailment\n",
       "1          neutral\n",
       "2       entailment\n",
       "3    contradiction\n",
       "4          neutral\n",
       "..             ...\n",
       "488     entailment\n",
       "489        neutral\n",
       "490  contradiction\n",
       "491  contradiction\n",
       "492     entailment\n",
       "\n",
       "[493 rows x 1 columns]"
      ]
     },
     "execution_count": 8,
     "metadata": {},
     "output_type": "execute_result"
    }
   ],
   "source": [
    "final_df_label"
   ]
  },
  {
   "cell_type": "code",
   "execution_count": 9,
   "metadata": {
    "ExecuteTime": {
     "end_time": "2021-01-31T15:20:31.987703Z",
     "start_time": "2021-01-31T15:20:31.972148Z"
    }
   },
   "outputs": [],
   "source": [
    "# save the final predicted classes\n",
    "final_df_label.to_csv('predicted.csv',index=False)"
   ]
  },
  {
   "cell_type": "code",
   "execution_count": null,
   "metadata": {
    "ExecuteTime": {
     "end_time": "2021-01-31T12:36:45.486617Z",
     "start_time": "2021-01-31T12:36:45.481088Z"
    }
   },
   "outputs": [],
   "source": [
    "# pd.read_csv('./predicted.csv')"
   ]
  },
  {
   "cell_type": "code",
   "execution_count": null,
   "metadata": {},
   "outputs": [],
   "source": []
  }
 ],
 "metadata": {
  "kernelspec": {
   "display_name": "pytorch",
   "language": "python",
   "name": "pytorch"
  },
  "language_info": {
   "codemirror_mode": {
    "name": "ipython",
    "version": 3
   },
   "file_extension": ".py",
   "mimetype": "text/x-python",
   "name": "python",
   "nbconvert_exporter": "python",
   "pygments_lexer": "ipython3",
   "version": "3.8.5"
  }
 },
 "nbformat": 4,
 "nbformat_minor": 4
}
